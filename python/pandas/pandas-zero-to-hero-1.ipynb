{
 "cells": [
  {
   "cell_type": "markdown",
   "id": "38b8ad5c",
   "metadata": {},
   "source": [
    "# **1. Reading files**\n",
    "- Reading files\n",
    "- Concatenating them"
   ]
  },
  {
   "cell_type": "code",
   "execution_count": null,
   "id": "d138d386",
   "metadata": {},
   "outputs": [],
   "source": []
  }
 ],
 "metadata": {
  "language_info": {
   "name": "python"
  }
 },
 "nbformat": 4,
 "nbformat_minor": 5
}
