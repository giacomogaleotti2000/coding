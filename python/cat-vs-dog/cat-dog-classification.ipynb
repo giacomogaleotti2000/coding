{
 "cells": [
  {
   "cell_type": "code",
   "execution_count": 22,
   "id": "cef5aba4",
   "metadata": {},
   "outputs": [],
   "source": [
    "import os\n",
    "import pandas as pd\n",
    "\n",
    "input_path = \"/Users/giacomogaleotti/Documents/coding/learning/python/cat-vs-dog/inputs\"\n",
    "\n",
    "input_files_path = os.path.join(input_path, \"training_set\")\n"
   ]
  },
  {
   "cell_type": "code",
   "execution_count": 25,
   "id": "3a24a0ab",
   "metadata": {},
   "outputs": [],
   "source": [
    "folders = [\"cats\", \"dogs\"]\n",
    "\n",
    "images = []\n",
    "labels = []\n",
    "\n",
    "for fol in folders:\n",
    "    for file in os.listdir(os.path.join(input_files_path, fol)):\n",
    "        images.append(os.path.join(os.path.join(input_files_path, fol), file))\n",
    "        labels.append(fol)"
   ]
  },
  {
   "cell_type": "code",
   "execution_count": 20,
   "id": "79cc811f",
   "metadata": {},
   "outputs": [
    {
     "name": "stdout",
     "output_type": "stream",
     "text": [
      "['/Users/giacomogaleotti/Documents/coding/learning/python/cat-vs-dog/inputs/training_set/cats/cat.2718.jpg', '/Users/giacomogaleotti/Documents/coding/learning/python/cat-vs-dog/inputs/training_set/cats/cat.3406.jpg', '/Users/giacomogaleotti/Documents/coding/learning/python/cat-vs-dog/inputs/training_set/cats/cat.1211.jpg', '/Users/giacomogaleotti/Documents/coding/learning/python/cat-vs-dog/inputs/training_set/cats/cat.1577.jpg', '/Users/giacomogaleotti/Documents/coding/learning/python/cat-vs-dog/inputs/training_set/cats/cat.952.jpg']\n",
      "['cats', 'cats', 'cats', 'cats', 'cats']\n"
     ]
    }
   ],
   "source": [
    "print(images[:5])\n",
    "print(labels[:5])"
   ]
  },
  {
   "cell_type": "code",
   "execution_count": 26,
   "id": "70455600",
   "metadata": {},
   "outputs": [
    {
     "data": {
      "application/vnd.microsoft.datawrangler.viewer.v0+json": {
       "columns": [
        {
         "name": "labels",
         "rawType": "object",
         "type": "string"
        },
        {
         "name": "count",
         "rawType": "int64",
         "type": "integer"
        }
       ],
       "ref": "33f0faa3-a6db-4072-a8ca-a47b7edff65f",
       "rows": [
        [
         "dogs",
         "4006"
        ],
        [
         "cats",
         "4001"
        ]
       ],
       "shape": {
        "columns": 1,
        "rows": 2
       }
      },
      "text/plain": [
       "labels\n",
       "dogs    4006\n",
       "cats    4001\n",
       "Name: count, dtype: int64"
      ]
     },
     "execution_count": 26,
     "metadata": {},
     "output_type": "execute_result"
    }
   ],
   "source": [
    "df = pd.DataFrame({\n",
    "    \"images\": images,\n",
    "    \"labels\": labels\n",
    "})\n",
    "\n",
    "df[\"labels\"].value_counts()"
   ]
  }
 ],
 "metadata": {
  "kernelspec": {
   "display_name": "Python 3",
   "language": "python",
   "name": "python3"
  },
  "language_info": {
   "codemirror_mode": {
    "name": "ipython",
    "version": 3
   },
   "file_extension": ".py",
   "mimetype": "text/x-python",
   "name": "python",
   "nbconvert_exporter": "python",
   "pygments_lexer": "ipython3",
   "version": "3.12.0"
  }
 },
 "nbformat": 4,
 "nbformat_minor": 5
}
