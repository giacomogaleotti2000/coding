{
 "cells": [
  {
   "cell_type": "code",
   "execution_count": null,
   "metadata": {},
   "outputs": [
    {
     "data": {
      "text/plain": [
       "['emma', 'olivia', 'ava']"
      ]
     },
     "execution_count": 1,
     "metadata": {},
     "output_type": "execute_result"
    }
   ],
   "source": [
    "import torch\n",
    "import torch.nn.functional as F\n",
    "\n",
    "words = open('_inputs/names.txt', 'r').read().splitlines()\n",
    "words[:3]"
   ]
  },
  {
   "cell_type": "code",
   "execution_count": 2,
   "metadata": {},
   "outputs": [
    {
     "name": "stdout",
     "output_type": "stream",
     "text": [
      "{1: 'a', 2: 'b', 3: 'c', 4: 'd', 5: 'e', 6: 'f', 7: 'g', 8: 'h', 9: 'i', 10: 'j', 11: 'k', 12: 'l', 13: 'm', 14: 'n', 15: 'o', 16: 'p', 17: 'q', 18: 'r', 19: 's', 20: 't', 21: 'u', 22: 'v', 23: 'w', 24: 'x', 25: 'y', 26: 'z', 0: '.'}\n",
      "{'a': 1, 'b': 2, 'c': 3, 'd': 4, 'e': 5, 'f': 6, 'g': 7, 'h': 8, 'i': 9, 'j': 10, 'k': 11, 'l': 12, 'm': 13, 'n': 14, 'o': 15, 'p': 16, 'q': 17, 'r': 18, 's': 19, 't': 20, 'u': 21, 'v': 22, 'w': 23, 'x': 24, 'y': 25, 'z': 26, '.': 0}\n"
     ]
    }
   ],
   "source": [
    "# Building the Vocabulary of the characters\n",
    "chars = sorted(list(set(''.join(words))))\n",
    "stoi = {s:i+1 for i,s in enumerate(chars)}\n",
    "stoi['.'] = 0\n",
    "itos = {i:s for s,i in stoi.items()}\n",
    "print(itos)\n",
    "print(stoi)"
   ]
  },
  {
   "cell_type": "markdown",
   "metadata": {},
   "source": [
    "## **Building a Simple Neural Net**"
   ]
  },
  {
   "cell_type": "code",
   "execution_count": null,
   "metadata": {},
   "outputs": [],
   "source": [
    "xs, ys = [], []\n",
    "for w in words:\n",
    "    chs = ['.'] + list(w) + ['.']\n",
    "    for ch1, ch2 in zip(chs, chs[1:]):\n",
    "        xs.append(stoi[ch1]) # input is one character\n",
    "        ys.append(stoi[ch2]) # output is the next character"
   ]
  },
  {
   "cell_type": "code",
   "execution_count": 50,
   "metadata": {},
   "outputs": [],
   "source": [
    "xs_enc = torch.nn.functional.one_hot(torch.tensor(xs), num_classes=len(stoi)).float() # N x 27\n",
    "ys_enc = torch.nn.functional.one_hot(torch.tensor(ys), num_classes=len(stoi)).float() # N x 27\n",
    "\n",
    "W = torch.randn(len(stoi), len(stoi), requires_grad=True) # 27 x 27"
   ]
  },
  {
   "cell_type": "code",
   "execution_count": 52,
   "metadata": {},
   "outputs": [
    {
     "name": "stdout",
     "output_type": "stream",
     "text": [
      "3.7425448894500732\n",
      "3.183295726776123\n",
      "2.9403176307678223\n",
      "2.807241916656494\n",
      "2.727997303009033\n",
      "2.6769602298736572\n",
      "2.6415903568267822\n",
      "2.615656852722168\n",
      "2.595832109451294\n",
      "2.5801756381988525\n"
     ]
    }
   ],
   "source": [
    "for k in range(100):\n",
    "    logits = xs_enc @ W # N x 27\n",
    "    counts = logits.exp()\n",
    "    probs = counts / counts.sum(dim=1, keepdim=True)\n",
    "    loss = -probs[torch.arange(len(ys)), ys].log().mean()\n",
    "\n",
    "    if k % 10 == 0:\n",
    "        print(loss.item())\n",
    "    \n",
    "    W.grad = None\n",
    "    loss.backward()\n",
    "    \n",
    "    W.data -= 10 * W.grad"
   ]
  },
  {
   "cell_type": "code",
   "execution_count": 82,
   "metadata": {},
   "outputs": [
    {
     "name": "stdout",
     "output_type": "stream",
     "text": [
      ".jnattis.\n",
      ".iai.\n",
      ".niyfa.\n",
      "..\n",
      ".n.\n",
      ".aridan.\n",
      ".arel.\n",
      ".lamadai.\n",
      ".ayawenaiucyauseneeli.\n",
      ".mza.\n"
     ]
    }
   ],
   "source": [
    "# going in inference to generate names\n",
    "for _ in range(10):\n",
    "    name = '.'\n",
    "    while True:\n",
    "        ch = name[-1]\n",
    "        x = torch.nn.functional.one_hot(torch.tensor([stoi[ch]]), num_classes=len(stoi)).float()\n",
    "        logits = x @ W\n",
    "        probs = logits.exp()\n",
    "        next_ch = torch.multinomial(probs, 1).item()\n",
    "        name += itos[next_ch]\n",
    "        if name[-1] == '.':\n",
    "            break\n",
    "    print(name)"
   ]
  }
 ],
 "metadata": {
  "kernelspec": {
   "display_name": "Python 3",
   "language": "python",
   "name": "python3"
  },
  "language_info": {
   "codemirror_mode": {
    "name": "ipython",
    "version": 3
   },
   "file_extension": ".py",
   "mimetype": "text/x-python",
   "name": "python",
   "nbconvert_exporter": "python",
   "pygments_lexer": "ipython3",
   "version": "3.11.0"
  }
 },
 "nbformat": 4,
 "nbformat_minor": 2
}
