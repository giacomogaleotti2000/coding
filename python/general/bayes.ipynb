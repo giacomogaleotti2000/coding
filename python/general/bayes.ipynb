{
 "cells": [
  {
   "cell_type": "markdown",
   "id": "8f72b577",
   "metadata": {},
   "source": [
    "The Problem\n",
    "\n",
    "In a company:\n",
    "\n",
    "- 5% of emails are spam.\n",
    "- A spam filter flags 90% of spam emails correctly.\n",
    "- But it also incorrectly flags 10% of legitimate emails as spam.\n",
    "- An email just got flagged by the filter.\n",
    "\n",
    "Question: What’s the probability that the email is actually spam?"
   ]
  },
  {
   "cell_type": "code",
   "execution_count": 2,
   "id": "6c3277c1",
   "metadata": {},
   "outputs": [
    {
     "name": "stdout",
     "output_type": "stream",
     "text": [
      "0.08333333333333333\n"
     ]
    }
   ],
   "source": [
    "prior = 0.01 # prior probability that emails are spam\n",
    "\n",
    "# data\n",
    "prob_flagged = 0.9 * prior + 0.1 * (1-prior)\n",
    "prob_hypoth_right = 0.9 * prior\n",
    "\n",
    "p = prob_hypoth_right / prob_flagged\n",
    "print(p)"
   ]
  }
 ],
 "metadata": {
  "kernelspec": {
   "display_name": "Python 3",
   "language": "python",
   "name": "python3"
  },
  "language_info": {
   "codemirror_mode": {
    "name": "ipython",
    "version": 3
   },
   "file_extension": ".py",
   "mimetype": "text/x-python",
   "name": "python",
   "nbconvert_exporter": "python",
   "pygments_lexer": "ipython3",
   "version": "3.11.0"
  }
 },
 "nbformat": 4,
 "nbformat_minor": 5
}
