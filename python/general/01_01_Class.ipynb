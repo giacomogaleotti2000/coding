{
 "cells": [
  {
   "cell_type": "markdown",
   "metadata": {},
   "source": [
    "# **Classes Notebook** "
   ]
  },
  {
   "cell_type": "markdown",
   "metadata": {},
   "source": [
    "Il succo delle classi (e dei methods) è che non c'è bisogno di passargli ogni volta la funzione, perchè il primo input è l'instance considerata. Questo si capisce bene nel momento in cui si studiano gli static methods, che non sono altro che semplicissime funzioni a cui non viene passato nulla in automatico"
   ]
  },
  {
   "cell_type": "markdown",
   "metadata": {},
   "source": [
    "### **La Classe**"
   ]
  },
  {
   "cell_type": "code",
   "execution_count": null,
   "metadata": {},
   "outputs": [
    {
     "name": "stdout",
     "output_type": "stream",
     "text": [
      "RAL di Giacomo aggiornata a : 14000\n",
      "RAL di Francesca aggiornata a : 33000\n",
      "RAL di Michele aggiornata a : 46000\n"
     ]
    }
   ],
   "source": [
    "class profilo_dipendente:\n",
    "    bonus_annuo = 0\n",
    "    \n",
    "    # dizionario per associare il livello alla RAL\n",
    "    position_dict = {\n",
    "            \"Research Analyst\": 14000,\n",
    "            \"Business Analyst\": 30000,\n",
    "            \"Consultant\": 40000,\n",
    "            \"Manager\": 60000,\n",
    "            \"Principal\": 80000,\n",
    "            \"Partner\": 100000\n",
    "        }\n",
    "    # dizionario per associare gli anni di esperienza all'extra in busta paga\n",
    "    experience_dict = {\n",
    "        0: 0,\n",
    "        1: 1000,\n",
    "        2: 3000,\n",
    "        3: 6000\n",
    "    }\n",
    "    \n",
    "    # All'interno dell'init si creano tutti gli oggetti della classe\n",
    "    def __init__(self, name, surname, hometown):\n",
    "        self.nome = name\n",
    "        self.cognome = surname\n",
    "        self.cittanatale = hometown\n",
    "        self.ral = None\n",
    "        \n",
    "    # Ora creiamo la funzione della classe che assegna la ral in base al livello (detta method)\n",
    "    def update_ral(self, posizione, livello, bonus_annuo=0):        \n",
    "        if posizione in profilo_dipendente.position_dict:\n",
    "            if livello in profilo_dipendente.experience_dict:\n",
    "                self.ral = profilo_dipendente.position_dict[posizione] + profilo_dipendente.experience_dict[livello] + bonus_annuo\n",
    "                print(f\"RAL di {self.nome} aggiornata a :\", self.ral)\n",
    "            else:\n",
    "                print(f\"livello di {self.nome} non presente tra i possibili\")\n",
    "        else:\n",
    "            print(\"posizione non trovata\")\n",
    "            pass\n",
    "\n",
    "jack = profilo_dipendente(\"Giacomo\", \"Galeotti\", \"Milano\")\n",
    "fra = profilo_dipendente(\"Francesca\", \"Bagnalasta\", \"Piacenza\")\n",
    "michi = profilo_dipendente(\"Michele\", \"Tallarigo\", \"Consultant\")\n",
    "\n",
    "jack.update_ral(\"Research Analyst\", 0)\n",
    "fra.update_ral(\"Business Analyst\", 2)\n",
    "michi.update_ral(\"Consultant\", 3)"
   ]
  },
  {
   "cell_type": "markdown",
   "metadata": {},
   "source": [
    "### **Ora si mostrano anche il classmethod e lo staticmethod**"
   ]
  },
  {
   "cell_type": "code",
   "execution_count": 2,
   "metadata": {},
   "outputs": [
    {
     "name": "stdout",
     "output_type": "stream",
     "text": [
      "2\n",
      "1.1\n",
      "3\n",
      "2\n"
     ]
    }
   ],
   "source": [
    "# In this case the class is useful to store different \n",
    "class employee:\n",
    "    # class variables\n",
    "    total_number = 0\n",
    "    salary_increase = 1.1\n",
    "    salary = 30000\n",
    "    \n",
    "    def __init__(self, name, surname):\n",
    "        self.name = name\n",
    "        self.surname = surname\n",
    "        self.email = name + '.' + surname + '@company.com'\n",
    "        \n",
    "        employee.total_number += 1\n",
    "    \n",
    "    def apply_salary_increase(self):\n",
    "        self.wage = self.salary * self.salary_increase\n",
    "        return self.wage\n",
    "    \n",
    "    @classmethod # which can be used for instance to change the global class variables\n",
    "    def set_salary_increase(cls, input_salary):\n",
    "        cls.salary_increase = input_salary\n",
    "        pass\n",
    "    \n",
    "jack = employee(\"Giacomo\", \"Galeotti\")\n",
    "fra = employee(\"Francesca\", \"Bagnalasta\")\n",
    "\n",
    "# Regular methods - which means calling the functions that you create inside the class, automatically pass the instance (i.e. jack)\n",
    "jack.salary_increase = 2\n",
    "\n",
    "# Class methods automatically pass the class (i.e. the employee class)\n",
    "print(jack.salary_increase)\n",
    "print(fra.salary_increase)\n",
    "\n",
    "# Class methods automatically pass the class (i.e. the employee class)\n",
    "employee.set_salary_increase(3)\n",
    "\n",
    "michi = employee(\"Michele\", \"Tallarigo\")\n",
    "print(michi.salary_increase)\n",
    "print(jack.salary_increase)"
   ]
  }
 ],
 "metadata": {
  "kernelspec": {
   "display_name": "Python 3",
   "language": "python",
   "name": "python3"
  },
  "language_info": {
   "codemirror_mode": {
    "name": "ipython",
    "version": 3
   },
   "file_extension": ".py",
   "mimetype": "text/x-python",
   "name": "python",
   "nbconvert_exporter": "python",
   "pygments_lexer": "ipython3",
   "version": "3.12.4"
  }
 },
 "nbformat": 4,
 "nbformat_minor": 2
}
