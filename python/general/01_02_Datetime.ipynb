{
 "cells": [
  {
   "cell_type": "markdown",
   "metadata": {},
   "source": [
    "# **How to Handle Dates in Python**"
   ]
  },
  {
   "cell_type": "markdown",
   "metadata": {},
   "source": [
    "When you work with datetime.date, you only use dates in the format yyyy-mm-dd."
   ]
  },
  {
   "cell_type": "code",
   "execution_count": 27,
   "metadata": {},
   "outputs": [
    {
     "name": "stdout",
     "output_type": "stream",
     "text": [
      "2024-10-04\n",
      "4\n",
      "Friday\n"
     ]
    }
   ],
   "source": [
    "from datetime import date\n",
    "\n",
    "date = date.today()\n",
    "print(date)\n",
    "\n",
    "# to transform the date into just the week day (from 0 being monday to 6 being sunday)\n",
    "print(date.weekday())\n",
    "\n",
    "# to transform instead the date of the week into the name\n",
    "print(date.strftime(\"%A\"))"
   ]
  },
  {
   "cell_type": "code",
   "execution_count": 54,
   "metadata": {},
   "outputs": [
    {
     "name": "stdout",
     "output_type": "stream",
     "text": [
      "2024-10-04 19:01:27.398211\n",
      "4\n",
      "Friday\n"
     ]
    }
   ],
   "source": [
    "from datetime import datetime as dt # So if I import the dateime instead of just the date, I can also get the time\n",
    "\n",
    "date = dt.now()\n",
    "print(date)\n",
    "\n",
    "# to transform the date into just the week day (from 0 being monday to 6 being sunday)\n",
    "print(date.weekday())\n",
    "\n",
    "# to transform instead the date of the week into the name\n",
    "print(date.strftime(\"%A\"))"
   ]
  },
  {
   "cell_type": "markdown",
   "metadata": {},
   "source": [
    "If i sum or subtract dates in datetime it will create time deltas, while adding or subtracting timedeltas to dates will create dates."
   ]
  },
  {
   "cell_type": "code",
   "execution_count": 37,
   "metadata": {},
   "outputs": [
    {
     "name": "stdout",
     "output_type": "stream",
     "text": [
      "24.0\n"
     ]
    }
   ],
   "source": [
    "import datetime\n",
    "\n",
    "date1 = datetime.date(2020, 5, 15)\n",
    "date2 = datetime.date(2020, 5, 16)\n",
    "\n",
    "timedelta = date2 - date1\n",
    "print(timedelta.total_seconds()/3600)"
   ]
  },
  {
   "cell_type": "markdown",
   "metadata": {},
   "source": [
    "If instead you use the datetime.time, you work with hh:mm:ss.microseconds "
   ]
  },
  {
   "cell_type": "code",
   "execution_count": 32,
   "metadata": {},
   "outputs": [
    {
     "name": "stdout",
     "output_type": "stream",
     "text": [
      "22:14:50.032567\n"
     ]
    }
   ],
   "source": [
    "time = datetime.time(22, 14, 50, 32567)\n",
    "print(time)"
   ]
  },
  {
   "cell_type": "markdown",
   "metadata": {},
   "source": [
    "If instead we use datetime.datetime, you work with everthing "
   ]
  },
  {
   "cell_type": "code",
   "execution_count": 51,
   "metadata": {},
   "outputs": [
    {
     "name": "stdout",
     "output_type": "stream",
     "text": [
      "2024-09-15 17:24:50.001000\n",
      "2024-10-04 19:00:58.243698+02:00\n"
     ]
    }
   ],
   "source": [
    "import datetime as dt\n",
    "\n",
    "date = dt.datetime(2024, 9, 15, 17, 24, 50, 1000)\n",
    "print(date)\n",
    "\n",
    "# If now I want to work also with the timezones\n",
    "import pytz\n",
    "date = dt.datetime.now(pytz.timezone('Europe/Madrid'))\n",
    "print(date)"
   ]
  }
 ],
 "metadata": {
  "kernelspec": {
   "display_name": "Python 3",
   "language": "python",
   "name": "python3"
  },
  "language_info": {
   "codemirror_mode": {
    "name": "ipython",
    "version": 3
   },
   "file_extension": ".py",
   "mimetype": "text/x-python",
   "name": "python",
   "nbconvert_exporter": "python",
   "pygments_lexer": "ipython3",
   "version": "3.12.4"
  }
 },
 "nbformat": 4,
 "nbformat_minor": 2
}
