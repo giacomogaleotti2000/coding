{
 "cells": [
  {
   "cell_type": "code",
   "execution_count": 1,
   "id": "e7b5f01c",
   "metadata": {},
   "outputs": [
    {
     "data": {
      "application/vnd.microsoft.datawrangler.viewer.v0+json": {
       "columns": [
        {
         "name": "index",
         "rawType": "int64",
         "type": "integer"
        },
        {
         "name": "Manufacturer",
         "rawType": "object",
         "type": "string"
        },
        {
         "name": "Model",
         "rawType": "object",
         "type": "string"
        },
        {
         "name": "Engine size",
         "rawType": "float64",
         "type": "float"
        },
        {
         "name": "Fuel type",
         "rawType": "object",
         "type": "string"
        },
        {
         "name": "Year of manufacture",
         "rawType": "int64",
         "type": "integer"
        },
        {
         "name": "Mileage",
         "rawType": "int64",
         "type": "integer"
        },
        {
         "name": "Price",
         "rawType": "int64",
         "type": "integer"
        }
       ],
       "ref": "ace97594-3545-4701-8e78-970451cca70e",
       "rows": [
        [
         "0",
         "Ford",
         "Fiesta",
         "1.0",
         "Petrol",
         "2002",
         "127300",
         "3074"
        ],
        [
         "1",
         "Porsche",
         "718 Cayman",
         "4.0",
         "Petrol",
         "2016",
         "57850",
         "49704"
        ],
        [
         "2",
         "Ford",
         "Mondeo",
         "1.6",
         "Diesel",
         "2014",
         "39190",
         "24072"
        ],
        [
         "3",
         "Toyota",
         "RAV4",
         "1.8",
         "Hybrid",
         "1988",
         "210814",
         "1705"
        ],
        [
         "4",
         "VW",
         "Polo",
         "1.0",
         "Petrol",
         "2006",
         "127869",
         "4101"
        ],
        [
         "5",
         "Ford",
         "Focus",
         "1.4",
         "Petrol",
         "2018",
         "33603",
         "29204"
        ],
        [
         "6",
         "Ford",
         "Mondeo",
         "1.8",
         "Diesel",
         "2010",
         "86686",
         "14350"
        ],
        [
         "7",
         "Toyota",
         "Prius",
         "1.4",
         "Hybrid",
         "2015",
         "30663",
         "30297"
        ],
        [
         "8",
         "VW",
         "Polo",
         "1.2",
         "Petrol",
         "2012",
         "73470",
         "9977"
        ],
        [
         "9",
         "Ford",
         "Focus",
         "2.0",
         "Diesel",
         "1992",
         "262514",
         "1049"
        ],
        [
         "10",
         "VW",
         "Golf",
         "2.0",
         "Diesel",
         "2014",
         "83047",
         "17173"
        ],
        [
         "11",
         "BMW",
         "Z4",
         "2.0",
         "Petrol",
         "1990",
         "293666",
         "719"
        ],
        [
         "12",
         "VW",
         "Golf",
         "1.2",
         "Diesel",
         "2007",
         "92697",
         "7792"
        ],
        [
         "13",
         "Toyota",
         "RAV4",
         "2.2",
         "Petrol",
         "2007",
         "79393",
         "16026"
        ],
        [
         "14",
         "Toyota",
         "Yaris",
         "1.4",
         "Petrol",
         "1998",
         "97286",
         "4046"
        ],
        [
         "15",
         "VW",
         "Golf",
         "1.6",
         "Diesel",
         "1989",
         "222390",
         "933"
        ],
        [
         "16",
         "Toyota",
         "RAV4",
         "2.4",
         "Hybrid",
         "2003",
         "117425",
         "11667"
        ],
        [
         "17",
         "Toyota",
         "Yaris",
         "1.2",
         "Petrol",
         "1992",
         "245990",
         "720"
        ],
        [
         "18",
         "Toyota",
         "RAV4",
         "2.0",
         "Hybrid",
         "2018",
         "28381",
         "52671"
        ],
        [
         "19",
         "VW",
         "Polo",
         "1.2",
         "Petrol",
         "1998",
         "155038",
         "2118"
        ],
        [
         "20",
         "VW",
         "Golf",
         "1.2",
         "Hybrid",
         "1987",
         "121744",
         "1890"
        ],
        [
         "21",
         "Ford",
         "Mondeo",
         "1.6",
         "Diesel",
         "1996",
         "77584",
         "5667"
        ],
        [
         "22",
         "Toyota",
         "Prius",
         "1.0",
         "Hybrid",
         "2003",
         "115291",
         "6512"
        ],
        [
         "23",
         "Toyota",
         "Prius",
         "1.0",
         "Hybrid",
         "1990",
         "238571",
         "961"
        ],
        [
         "24",
         "Porsche",
         "911",
         "2.6",
         "Petrol",
         "2009",
         "66273",
         "41963"
        ],
        [
         "25",
         "Toyota",
         "Prius",
         "1.8",
         "Hybrid",
         "2017",
         "31958",
         "38961"
        ],
        [
         "26",
         "Porsche",
         "911",
         "3.5",
         "Petrol",
         "2005",
         "151556",
         "19747"
        ],
        [
         "27",
         "Toyota",
         "Yaris",
         "1.2",
         "Petrol",
         "2002",
         "179097",
         "2548"
        ],
        [
         "28",
         "VW",
         "Golf",
         "2.0",
         "Petrol",
         "2020",
         "18985",
         "36387"
        ],
        [
         "29",
         "Toyota",
         "RAV4",
         "1.8",
         "Hybrid",
         "2002",
         "66990",
         "13553"
        ],
        [
         "30",
         "Ford",
         "Focus",
         "1.0",
         "Hybrid",
         "2010",
         "85131",
         "12472"
        ],
        [
         "31",
         "Ford",
         "Fiesta",
         "1.0",
         "Petrol",
         "2001",
         "144731",
         "2503"
        ],
        [
         "32",
         "VW",
         "Polo",
         "2.0",
         "Diesel",
         "2008",
         "97001",
         "8784"
        ],
        [
         "33",
         "VW",
         "Polo",
         "1.6",
         "Petrol",
         "2016",
         "52409",
         "17257"
        ],
        [
         "34",
         "Ford",
         "Fiesta",
         "1.4",
         "Petrol",
         "2010",
         "112714",
         "6936"
        ],
        [
         "35",
         "VW",
         "Passat",
         "2.0",
         "Diesel",
         "1992",
         "198540",
         "1964"
        ],
        [
         "36",
         "VW",
         "Passat",
         "1.8",
         "Diesel",
         "1989",
         "213162",
         "1340"
        ],
        [
         "37",
         "BMW",
         "Z4",
         "2.2",
         "Petrol",
         "2005",
         "133174",
         "8511"
        ],
        [
         "38",
         "VW",
         "Polo",
         "1.6",
         "Petrol",
         "2008",
         "129588",
         "5848"
        ],
        [
         "39",
         "BMW",
         "Z4",
         "2.0",
         "Petrol",
         "1990",
         "148586",
         "2637"
        ],
        [
         "40",
         "Ford",
         "Focus",
         "2.0",
         "Petrol",
         "1995",
         "91173",
         "5181"
        ],
        [
         "41",
         "BMW",
         "M5",
         "4.0",
         "Petrol",
         "2017",
         "22759",
         "97758"
        ],
        [
         "42",
         "VW",
         "Polo",
         "1.4",
         "Petrol",
         "1990",
         "261526",
         "522"
        ],
        [
         "43",
         "VW",
         "Passat",
         "1.4",
         "Diesel",
         "1995",
         "235594",
         "1439"
        ],
        [
         "44",
         "BMW",
         "Z4",
         "2.0",
         "Petrol",
         "1995",
         "42759",
         "7873"
        ],
        [
         "45",
         "VW",
         "Passat",
         "1.8",
         "Diesel",
         "2005",
         "103352",
         "9633"
        ],
        [
         "46",
         "VW",
         "Passat",
         "1.6",
         "Petrol",
         "2003",
         "63372",
         "10001"
        ],
        [
         "47",
         "Toyota",
         "Yaris",
         "1.0",
         "Petrol",
         "2009",
         "51787",
         "9689"
        ],
        [
         "48",
         "Ford",
         "Fiesta",
         "1.4",
         "Petrol",
         "2014",
         "41495",
         "14721"
        ],
        [
         "49",
         "Toyota",
         "Yaris",
         "1.4",
         "Petrol",
         "2010",
         "43111",
         "12928"
        ]
       ],
       "shape": {
        "columns": 7,
        "rows": 50000
       }
      },
      "text/html": [
       "<div>\n",
       "<style scoped>\n",
       "    .dataframe tbody tr th:only-of-type {\n",
       "        vertical-align: middle;\n",
       "    }\n",
       "\n",
       "    .dataframe tbody tr th {\n",
       "        vertical-align: top;\n",
       "    }\n",
       "\n",
       "    .dataframe thead th {\n",
       "        text-align: right;\n",
       "    }\n",
       "</style>\n",
       "<table border=\"1\" class=\"dataframe\">\n",
       "  <thead>\n",
       "    <tr style=\"text-align: right;\">\n",
       "      <th></th>\n",
       "      <th>Manufacturer</th>\n",
       "      <th>Model</th>\n",
       "      <th>Engine size</th>\n",
       "      <th>Fuel type</th>\n",
       "      <th>Year of manufacture</th>\n",
       "      <th>Mileage</th>\n",
       "      <th>Price</th>\n",
       "    </tr>\n",
       "  </thead>\n",
       "  <tbody>\n",
       "    <tr>\n",
       "      <th>0</th>\n",
       "      <td>Ford</td>\n",
       "      <td>Fiesta</td>\n",
       "      <td>1.0</td>\n",
       "      <td>Petrol</td>\n",
       "      <td>2002</td>\n",
       "      <td>127300</td>\n",
       "      <td>3074</td>\n",
       "    </tr>\n",
       "    <tr>\n",
       "      <th>1</th>\n",
       "      <td>Porsche</td>\n",
       "      <td>718 Cayman</td>\n",
       "      <td>4.0</td>\n",
       "      <td>Petrol</td>\n",
       "      <td>2016</td>\n",
       "      <td>57850</td>\n",
       "      <td>49704</td>\n",
       "    </tr>\n",
       "    <tr>\n",
       "      <th>2</th>\n",
       "      <td>Ford</td>\n",
       "      <td>Mondeo</td>\n",
       "      <td>1.6</td>\n",
       "      <td>Diesel</td>\n",
       "      <td>2014</td>\n",
       "      <td>39190</td>\n",
       "      <td>24072</td>\n",
       "    </tr>\n",
       "    <tr>\n",
       "      <th>3</th>\n",
       "      <td>Toyota</td>\n",
       "      <td>RAV4</td>\n",
       "      <td>1.8</td>\n",
       "      <td>Hybrid</td>\n",
       "      <td>1988</td>\n",
       "      <td>210814</td>\n",
       "      <td>1705</td>\n",
       "    </tr>\n",
       "    <tr>\n",
       "      <th>4</th>\n",
       "      <td>VW</td>\n",
       "      <td>Polo</td>\n",
       "      <td>1.0</td>\n",
       "      <td>Petrol</td>\n",
       "      <td>2006</td>\n",
       "      <td>127869</td>\n",
       "      <td>4101</td>\n",
       "    </tr>\n",
       "    <tr>\n",
       "      <th>...</th>\n",
       "      <td>...</td>\n",
       "      <td>...</td>\n",
       "      <td>...</td>\n",
       "      <td>...</td>\n",
       "      <td>...</td>\n",
       "      <td>...</td>\n",
       "      <td>...</td>\n",
       "    </tr>\n",
       "    <tr>\n",
       "      <th>49995</th>\n",
       "      <td>BMW</td>\n",
       "      <td>M5</td>\n",
       "      <td>5.0</td>\n",
       "      <td>Petrol</td>\n",
       "      <td>2018</td>\n",
       "      <td>28664</td>\n",
       "      <td>113006</td>\n",
       "    </tr>\n",
       "    <tr>\n",
       "      <th>49996</th>\n",
       "      <td>Toyota</td>\n",
       "      <td>Prius</td>\n",
       "      <td>1.8</td>\n",
       "      <td>Hybrid</td>\n",
       "      <td>2003</td>\n",
       "      <td>105120</td>\n",
       "      <td>9430</td>\n",
       "    </tr>\n",
       "    <tr>\n",
       "      <th>49997</th>\n",
       "      <td>Ford</td>\n",
       "      <td>Mondeo</td>\n",
       "      <td>1.6</td>\n",
       "      <td>Diesel</td>\n",
       "      <td>2022</td>\n",
       "      <td>4030</td>\n",
       "      <td>49852</td>\n",
       "    </tr>\n",
       "    <tr>\n",
       "      <th>49998</th>\n",
       "      <td>Ford</td>\n",
       "      <td>Focus</td>\n",
       "      <td>1.0</td>\n",
       "      <td>Diesel</td>\n",
       "      <td>2016</td>\n",
       "      <td>26468</td>\n",
       "      <td>23630</td>\n",
       "    </tr>\n",
       "    <tr>\n",
       "      <th>49999</th>\n",
       "      <td>VW</td>\n",
       "      <td>Golf</td>\n",
       "      <td>1.4</td>\n",
       "      <td>Diesel</td>\n",
       "      <td>2012</td>\n",
       "      <td>109300</td>\n",
       "      <td>10400</td>\n",
       "    </tr>\n",
       "  </tbody>\n",
       "</table>\n",
       "<p>50000 rows × 7 columns</p>\n",
       "</div>"
      ],
      "text/plain": [
       "      Manufacturer       Model  Engine size Fuel type  Year of manufacture  \\\n",
       "0             Ford      Fiesta          1.0    Petrol                 2002   \n",
       "1          Porsche  718 Cayman          4.0    Petrol                 2016   \n",
       "2             Ford      Mondeo          1.6    Diesel                 2014   \n",
       "3           Toyota        RAV4          1.8    Hybrid                 1988   \n",
       "4               VW        Polo          1.0    Petrol                 2006   \n",
       "...            ...         ...          ...       ...                  ...   \n",
       "49995          BMW          M5          5.0    Petrol                 2018   \n",
       "49996       Toyota       Prius          1.8    Hybrid                 2003   \n",
       "49997         Ford      Mondeo          1.6    Diesel                 2022   \n",
       "49998         Ford       Focus          1.0    Diesel                 2016   \n",
       "49999           VW        Golf          1.4    Diesel                 2012   \n",
       "\n",
       "       Mileage   Price  \n",
       "0       127300    3074  \n",
       "1        57850   49704  \n",
       "2        39190   24072  \n",
       "3       210814    1705  \n",
       "4       127869    4101  \n",
       "...        ...     ...  \n",
       "49995    28664  113006  \n",
       "49996   105120    9430  \n",
       "49997     4030   49852  \n",
       "49998    26468   23630  \n",
       "49999   109300   10400  \n",
       "\n",
       "[50000 rows x 7 columns]"
      ]
     },
     "execution_count": 1,
     "metadata": {},
     "output_type": "execute_result"
    }
   ],
   "source": [
    "import kagglehub\n",
    "from kagglehub import KaggleDatasetAdapter\n",
    "\n",
    "# Set the path to the file you'd like to load\n",
    "file_path = \"car_sales_data.csv\"\n",
    "\n",
    "# Load the dataset from kaggle without downloading it locally\n",
    "df = kagglehub.dataset_load(KaggleDatasetAdapter.PANDAS, \"msnbehdani/mock-dataset-of-second-hand-car-sales\", file_path)\n",
    "df"
   ]
  },
  {
   "cell_type": "markdown",
   "id": "18d5dc55",
   "metadata": {},
   "source": [
    "If you want to take just the mere values of the dataset (losing then the column names etc...)"
   ]
  },
  {
   "cell_type": "code",
   "execution_count": 2,
   "id": "22173c65",
   "metadata": {},
   "outputs": [
    {
     "name": "stdout",
     "output_type": "stream",
     "text": [
      "[['Ford' 'Fiesta' 1.0 ... 2002 127300 3074]\n",
      " ['Porsche' '718 Cayman' 4.0 ... 2016 57850 49704]\n",
      " ['Ford' 'Mondeo' 1.6 ... 2014 39190 24072]\n",
      " ...\n",
      " ['Ford' 'Mondeo' 1.6 ... 2022 4030 49852]\n",
      " ['Ford' 'Focus' 1.0 ... 2016 26468 23630]\n",
      " ['VW' 'Golf' 1.4 ... 2012 109300 10400]]\n"
     ]
    }
   ],
   "source": [
    "numpy_array = df.to_numpy()\n",
    "print(numpy_array)"
   ]
  },
  {
   "cell_type": "code",
   "execution_count": 3,
   "id": "a4372a02",
   "metadata": {},
   "outputs": [
    {
     "data": {
      "text/plain": [
       "array(['Ford', 'Porsche', 'Ford'], dtype=object)"
      ]
     },
     "execution_count": 3,
     "metadata": {},
     "output_type": "execute_result"
    }
   ],
   "source": [
    "numpy_array[:3,0]"
   ]
  },
  {
   "cell_type": "markdown",
   "id": "91b4b9d8",
   "metadata": {},
   "source": [
    "In general, for plotting, pandas already has matplotlib inside, so we can use, to be fast, built-in functions"
   ]
  },
  {
   "cell_type": "code",
   "execution_count": 4,
   "id": "51e6e86d",
   "metadata": {},
   "outputs": [
    {
     "data": {
      "text/plain": [
       "<Axes: title={'center': 'Price vs Year of Manufacture'}, xlabel='Year of manufacture', ylabel='Price'>"
      ]
     },
     "execution_count": 4,
     "metadata": {},
     "output_type": "execute_result"
    },
    {
     "data": {
      "image/png": "[encoded data removed]",
      "text/plain": [
       "<Figure size 1000x600 with 1 Axes>"
      ]
     },
     "metadata": {},
     "output_type": "display_data"
    }
   ],
   "source": [
    "df.plot(figsize=(10,6), x='Year of manufacture', y='Price', kind='scatter', color='black', title='Price vs Year of Manufacture')"
   ]
  },
  {
   "cell_type": "markdown",
   "id": "d9540224",
   "metadata": {},
   "source": [
    "to figure out how many bins to use"
   ]
  },
  {
   "cell_type": "code",
   "execution_count": 5,
   "id": "4f35558d",
   "metadata": {},
   "outputs": [
    {
     "name": "stdout",
     "output_type": "stream",
     "text": [
      "the first year in the dataset is 1984 while the last one is 2022\n",
      "in total there are 39 years\n"
     ]
    }
   ],
   "source": [
    "min_year = df['Year of manufacture'].min()\n",
    "max_year = df['Year of manufacture'].max()\n",
    "total_years = max_year - min_year + 1\n",
    "print(\"the first year in the dataset is\", min_year, \"while the last one is\", max_year)\n",
    "print(\"in total there are\", total_years, \"years\")"
   ]
  },
  {
   "cell_type": "code",
   "execution_count": 6,
   "id": "043ee40c",
   "metadata": {},
   "outputs": [
    {
     "data": {
      "text/plain": [
       "<Axes: ylabel='Frequency'>"
      ]
     },
     "execution_count": 6,
     "metadata": {},
     "output_type": "execute_result"
    },
    {
     "data": {
      "image/png": "[encoded data removed]",
      "text/plain": [
       "<Figure size 640x480 with 1 Axes>"
      ]
     },
     "metadata": {},
     "output_type": "display_data"
    }
   ],
   "source": [
    "df['Year of manufacture'].plot(kind='hist', color='black', bins=39, alpha=0.8)"
   ]
  },
  {
   "cell_type": "markdown",
   "id": "d7483646",
   "metadata": {},
   "source": [
    "imagine that I want to take the values of all the years in which more than 1600 cars have been sold"
   ]
  },
  {
   "cell_type": "code",
   "execution_count": 7,
   "id": "eff4737b",
   "metadata": {},
   "outputs": [
    {
     "data": {
      "text/plain": [
       "<Axes: xlabel='Manufacturer,Model'>"
      ]
     },
     "execution_count": 7,
     "metadata": {},
     "output_type": "execute_result"
    },
    {
     "data": {
      "image/png": "[encoded data removed]",
      "text/plain": [
       "<Figure size 640x480 with 1 Axes>"
      ]
     },
     "metadata": {},
     "output_type": "display_data"
    }
   ],
   "source": [
    "df_by_year = df.groupby('Year of manufacture').agg(\n",
    "    cars_per_year = ('Manufacturer', 'count')\n",
    ").reset_index()\n",
    "\n",
    "years_list = df_by_year[df_by_year['cars_per_year'] >= 1600]['Year of manufacture'].to_list()\n",
    "\n",
    "df[df['Year of manufacture'].isin(years_list)][['Manufacturer', 'Model']].value_counts().plot(kind='bar', color='black', alpha=0.7)"
   ]
  }
 ],
 "metadata": {
  "kernelspec": {
   "display_name": "Python 3",
   "language": "python",
   "name": "python3"
  },
  "language_info": {
   "codemirror_mode": {
    "name": "ipython",
    "version": 3
   },
   "file_extension": ".py",
   "mimetype": "text/x-python",
   "name": "python",
   "nbconvert_exporter": "python",
   "pygments_lexer": "ipython3",
   "version": "3.11.0"
  }
 },
 "nbformat": 4,
 "nbformat_minor": 5
}
