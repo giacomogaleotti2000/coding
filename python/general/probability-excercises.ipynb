{
 "cells": [
  {
   "cell_type": "code",
   "execution_count": null,
   "id": "9608926c",
   "metadata": {},
   "outputs": [
    {
     "name": "stdout",
     "output_type": "stream",
     "text": [
      "the aggregate sum over the poisson distribution is: 1.0\n",
      "the expected value of the poisson distribution is: 3.0\n",
      "mean:  3.0\n",
      "12.000000000000004\n"
     ]
    }
   ],
   "source": [
    "from scipy.stats import poisson, binom\n",
    "\n",
    "lam= 3\n",
    "\n",
    "poisson_pmf = poisson(mu=lam)\n",
    "\n",
    "# now If I want to compute the poisson of 3\n",
    "print(\"the aggregate sum over the poisson distribution is:\", sum([poisson_pmf.pmf(i) for i in range(50)]))\n",
    "print(\"the expected value of the poisson distribution is:\", sum([i * poisson_pmf.pmf(i) for i in range(50)])) # which is lam\n",
    "\n",
    "mean = sum([i * poisson_pmf.pmf(i) for i in range(100)])\n",
    "print('mean: ', mean)\n",
    "\n",
    "# var = sum( E[ (E(x) - x)^2 ] ) = E[X^2] - mean^2\n",
    "\n",
    "# E[X^2] = sum( X^2 * p(X^2) )\n",
    "Ex2 = sum([i**2 * poisson_pmf.pmf(i) for i in range(50)])\n",
    "print(Ex2)\n",
    "\n",
    "# print('the variance of this poisson is:', (Ex2 - mean**2).__round__(2))\n"
   ]
  },
  {
   "cell_type": "markdown",
   "id": "1f9ddb4c",
   "metadata": {},
   "source": [
    "D.E. Shaw: Say you have 150 friends, and 3 of them have phone numbers that have the last\n",
    "four digits with some permutation of the digits 0, 1, 4, and 9. What’s the probability of this\n",
    "occuring?"
   ]
  },
  {
   "cell_type": "code",
   "execution_count": 57,
   "id": "ce462fac",
   "metadata": {},
   "outputs": [
    {
     "name": "stdout",
     "output_type": "stream",
     "text": [
      "probability: 0.0024\n",
      "total probability: 0.005353261600362896\n"
     ]
    }
   ],
   "source": [
    "import math\n",
    "friends = 150 # total friends\n",
    "\n",
    "# total number of possibilities with 4 digits\n",
    "total = 10**4\n",
    "last_four_perms = math.factorial(4)\n",
    "\n",
    "# probability for one friend\n",
    "prob = last_four_perms / total\n",
    "print(\"probability:\", prob)\n",
    "\n",
    "# now, since the probability of havin exactly this cofiguration depends on 3 having it AND 147 not having it, then:\n",
    "binom_prob = math.comb(150, 3) * prob**3 * (1-prob)**147\n",
    "print('total probability:', binom_prob)"
   ]
  },
  {
   "cell_type": "markdown",
   "id": "4cea9769",
   "metadata": {},
   "source": [
    "Spotify: A fair die is rolled n times. What is the probability that the largest number rolled is r,\n",
    "for each r in 1,...,6?"
   ]
  },
  {
   "cell_type": "code",
   "execution_count": null,
   "id": "8d02a510",
   "metadata": {},
   "outputs": [],
   "source": [
    "n = 10 # number of times the dice is rolled (fair dice)\n",
    "\n",
    "# assuming r = 4, what's the probability that the largest number rolled is 4?\n",
    "\n",
    "single_roll_prob = 1/6\n",
    "\n",
    "# p = p(X <= r)"
   ]
  },
  {
   "cell_type": "markdown",
   "id": "1bd8eb82",
   "metadata": {},
   "source": [
    "Goldman Sachs: Say you have a jar initially containing a single amoeba in it. Once every\n",
    "minute, the amoeba has a 1 in 4 chance of doing one of four things: (1) dying out, (2) doing\n",
    "nothing, (3) splitting into two amoebas, or (4) splitting into three amoebas. What is the\n",
    "probability that the jar will eventually contain no living amoeba?"
   ]
  },
  {
   "cell_type": "code",
   "execution_count": null,
   "id": "22de607f",
   "metadata": {},
   "outputs": [
    {
     "name": "stdout",
     "output_type": "stream",
     "text": [
      "with t=2 --> 0.03125\n"
     ]
    }
   ],
   "source": [
    "# with t=1\n",
    "p_no_ameba = 1/4\n",
    "\n",
    "# with t=2\n",
    "t = 2\n",
    "p_no_ameba = (1/4)**t * (1/2)**(t-1)\n",
    "print(\"with t=2 -->\", p_no_ameba)\n",
    "\n",
    "t = 3\n",
    "p_no_ameba = (1/4)**t * (1/2)**(t-1) + "
   ]
  },
  {
   "cell_type": "markdown",
   "id": "c5c818e5",
   "metadata": {},
   "source": [
    "Assume you take a stick of length 1 and you break it uniformly at random into three parts. What is the probability that the three pieces can be used to form a triangle?"
   ]
  },
  {
   "cell_type": "code",
   "execution_count": null,
   "id": "8c29fa55",
   "metadata": {},
   "outputs": [],
   "source": [
    "# a, b, c are the three borders of the triangle\n",
    "\n",
    "# --------X---|-----Y-----\n"
   ]
  },
  {
   "cell_type": "code",
   "execution_count": 5,
   "id": "b191019c",
   "metadata": {},
   "outputs": [
    {
     "name": "stdout",
     "output_type": "stream",
     "text": [
      "{2, 3, 4}\n"
     ]
    }
   ],
   "source": [
    "t = (2, 3, 3, 4)\n",
    "l = [2, 3, 3, 4]\n",
    "\n",
    "print(set(l))"
   ]
  }
 ],
 "metadata": {
  "kernelspec": {
   "display_name": "Python 3",
   "language": "python",
   "name": "python3"
  },
  "language_info": {
   "codemirror_mode": {
    "name": "ipython",
    "version": 3
   },
   "file_extension": ".py",
   "mimetype": "text/x-python",
   "name": "python",
   "nbconvert_exporter": "python",
   "pygments_lexer": "ipython3",
   "version": "3.11.0"
  }
 },
 "nbformat": 4,
 "nbformat_minor": 5
}
